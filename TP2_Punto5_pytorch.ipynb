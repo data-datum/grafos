{
  "cells": [
    {
      "cell_type": "markdown",
      "metadata": {
        "id": "view-in-github"
      },
      "source": [
        "<a href=\"https://colab.research.google.com/github/nahuelalmeira/graphMachineLearning/blob/main/notebooks/PyTorch_Node2Vec.ipynb\" target=\"_parent\"><img src=\"https://colab.research.google.com/assets/colab-badge.svg\" alt=\"Open In Colab\"/></a>"
      ]
    },
    {
      "cell_type": "markdown",
      "metadata": {
        "id": "QWlAloddpElN"
      },
      "source": [
        "# Trabajo Práctico 5 \n",
        "\n",
        "\n",
        "## Generamos el word2vec con Pytorch"
      ]
    },
    {
      "cell_type": "markdown",
      "metadata": {
        "id": "MT--SXnwpFkB"
      },
      "source": [
        "### Configuración general"
      ]
    },
    {
      "cell_type": "code",
      "execution_count": 1,
      "metadata": {
        "colab": {
          "base_uri": "https://localhost:8080/"
        },
        "id": "VXcOwVPyo_DD",
        "outputId": "1adf75a8-8c28-4ed5-c761-7e50f0f4e5ee"
      },
      "outputs": [
        {
          "output_type": "stream",
          "name": "stdout",
          "text": [
            "Looking in links: https://pytorch-geometric.com/whl/torch-1.10.0+cu111.html\n",
            "Collecting torch-scatter\n",
            "  Downloading https://data.pyg.org/whl/torch-1.10.0%2Bcu113/torch_scatter-2.0.9-cp37-cp37m-linux_x86_64.whl (7.9 MB)\n",
            "\u001b[K     |████████████████████████████████| 7.9 MB 6.7 MB/s \n",
            "\u001b[?25hInstalling collected packages: torch-scatter\n",
            "Successfully installed torch-scatter-2.0.9\n",
            "Looking in links: https://pytorch-geometric.com/whl/torch-1.10.0+cu111.html\n",
            "Collecting torch-sparse\n",
            "  Downloading https://data.pyg.org/whl/torch-1.10.0%2Bcu113/torch_sparse-0.6.12-cp37-cp37m-linux_x86_64.whl (3.5 MB)\n",
            "\u001b[K     |████████████████████████████████| 3.5 MB 9.2 MB/s \n",
            "\u001b[?25hRequirement already satisfied: scipy in /usr/local/lib/python3.7/dist-packages (from torch-sparse) (1.4.1)\n",
            "Requirement already satisfied: numpy>=1.13.3 in /usr/local/lib/python3.7/dist-packages (from scipy->torch-sparse) (1.19.5)\n",
            "Installing collected packages: torch-sparse\n",
            "Successfully installed torch-sparse-0.6.12\n",
            "Looking in links: https://pytorch-geometric.com/whl/torch-1.10.0+cu111.html\n",
            "Collecting torch-cluster\n",
            "  Downloading https://data.pyg.org/whl/torch-1.10.0%2Bcu113/torch_cluster-1.5.9-cp37-cp37m-linux_x86_64.whl (2.3 MB)\n",
            "\u001b[K     |████████████████████████████████| 2.3 MB 7.4 MB/s \n",
            "\u001b[?25hInstalling collected packages: torch-cluster\n",
            "Successfully installed torch-cluster-1.5.9\n",
            "Looking in links: https://pytorch-geometric.com/whl/torch-1.10.0+cu111.html\n",
            "Collecting torch-spline-conv\n",
            "  Downloading https://data.pyg.org/whl/torch-1.10.0%2Bcu113/torch_spline_conv-1.2.1-cp37-cp37m-linux_x86_64.whl (747 kB)\n",
            "\u001b[K     |████████████████████████████████| 747 kB 9.4 MB/s \n",
            "\u001b[?25hInstalling collected packages: torch-spline-conv\n",
            "Successfully installed torch-spline-conv-1.2.1\n",
            "Collecting torch-geometric\n",
            "  Downloading torch_geometric-2.0.2.tar.gz (325 kB)\n",
            "\u001b[K     |████████████████████████████████| 325 kB 8.9 MB/s \n",
            "\u001b[?25hRequirement already satisfied: numpy in /usr/local/lib/python3.7/dist-packages (from torch-geometric) (1.19.5)\n",
            "Requirement already satisfied: tqdm in /usr/local/lib/python3.7/dist-packages (from torch-geometric) (4.62.3)\n",
            "Requirement already satisfied: scipy in /usr/local/lib/python3.7/dist-packages (from torch-geometric) (1.4.1)\n",
            "Requirement already satisfied: networkx in /usr/local/lib/python3.7/dist-packages (from torch-geometric) (2.6.3)\n",
            "Requirement already satisfied: scikit-learn in /usr/local/lib/python3.7/dist-packages (from torch-geometric) (1.0.1)\n",
            "Requirement already satisfied: requests in /usr/local/lib/python3.7/dist-packages (from torch-geometric) (2.23.0)\n",
            "Requirement already satisfied: pandas in /usr/local/lib/python3.7/dist-packages (from torch-geometric) (1.1.5)\n",
            "Collecting rdflib\n",
            "  Downloading rdflib-6.0.2-py3-none-any.whl (407 kB)\n",
            "\u001b[K     |████████████████████████████████| 407 kB 52.1 MB/s \n",
            "\u001b[?25hRequirement already satisfied: googledrivedownloader in /usr/local/lib/python3.7/dist-packages (from torch-geometric) (0.4)\n",
            "Requirement already satisfied: jinja2 in /usr/local/lib/python3.7/dist-packages (from torch-geometric) (2.11.3)\n",
            "Requirement already satisfied: pyparsing in /usr/local/lib/python3.7/dist-packages (from torch-geometric) (3.0.6)\n",
            "Collecting yacs\n",
            "  Downloading yacs-0.1.8-py3-none-any.whl (14 kB)\n",
            "Requirement already satisfied: PyYAML in /usr/local/lib/python3.7/dist-packages (from torch-geometric) (3.13)\n",
            "Requirement already satisfied: MarkupSafe>=0.23 in /usr/local/lib/python3.7/dist-packages (from jinja2->torch-geometric) (2.0.1)\n",
            "Requirement already satisfied: pytz>=2017.2 in /usr/local/lib/python3.7/dist-packages (from pandas->torch-geometric) (2018.9)\n",
            "Requirement already satisfied: python-dateutil>=2.7.3 in /usr/local/lib/python3.7/dist-packages (from pandas->torch-geometric) (2.8.2)\n",
            "Requirement already satisfied: six>=1.5 in /usr/local/lib/python3.7/dist-packages (from python-dateutil>=2.7.3->pandas->torch-geometric) (1.15.0)\n",
            "Requirement already satisfied: setuptools in /usr/local/lib/python3.7/dist-packages (from rdflib->torch-geometric) (57.4.0)\n",
            "Collecting isodate\n",
            "  Downloading isodate-0.6.0-py2.py3-none-any.whl (45 kB)\n",
            "\u001b[K     |████████████████████████████████| 45 kB 2.8 MB/s \n",
            "\u001b[?25hRequirement already satisfied: certifi>=2017.4.17 in /usr/local/lib/python3.7/dist-packages (from requests->torch-geometric) (2021.10.8)\n",
            "Requirement already satisfied: urllib3!=1.25.0,!=1.25.1,<1.26,>=1.21.1 in /usr/local/lib/python3.7/dist-packages (from requests->torch-geometric) (1.24.3)\n",
            "Requirement already satisfied: chardet<4,>=3.0.2 in /usr/local/lib/python3.7/dist-packages (from requests->torch-geometric) (3.0.4)\n",
            "Requirement already satisfied: idna<3,>=2.5 in /usr/local/lib/python3.7/dist-packages (from requests->torch-geometric) (2.10)\n",
            "Requirement already satisfied: joblib>=0.11 in /usr/local/lib/python3.7/dist-packages (from scikit-learn->torch-geometric) (1.1.0)\n",
            "Requirement already satisfied: threadpoolctl>=2.0.0 in /usr/local/lib/python3.7/dist-packages (from scikit-learn->torch-geometric) (3.0.0)\n",
            "Building wheels for collected packages: torch-geometric\n",
            "  Building wheel for torch-geometric (setup.py) ... \u001b[?25l\u001b[?25hdone\n",
            "  Created wheel for torch-geometric: filename=torch_geometric-2.0.2-py3-none-any.whl size=535570 sha256=6e9dc9c3a08fc520c4c79be6c8e3967fe0069d35826b6d3c246cca2356a217aa\n",
            "  Stored in directory: /root/.cache/pip/wheels/3f/08/13/2321517088bb2e95bfd0e45033bb9c923189e5b2078e0be4ef\n",
            "Successfully built torch-geometric\n",
            "Installing collected packages: isodate, yacs, rdflib, torch-geometric\n",
            "Successfully installed isodate-0.6.0 rdflib-6.0.2 torch-geometric-2.0.2 yacs-0.1.8\n"
          ]
        }
      ],
      "source": [
        "import torch\n",
        "\n",
        "def format_pytorch_version(version):\n",
        "    return version.split('+')[0]\n",
        "\n",
        "TORCH_version = torch.__version__\n",
        "TORCH = format_pytorch_version(TORCH_version)\n",
        "\n",
        "def format_cuda_version(version):\n",
        "    return 'cu' + version.replace('.', '')\n",
        "\n",
        "CUDA_version = torch.version.cuda\n",
        "CUDA = format_cuda_version(CUDA_version)\n",
        "\n",
        "!pip install torch-scatter     -f https://pytorch-geometric.com/whl/torch-{TORCH}+{CUDA}.html\n",
        "!pip install torch-sparse      -f https://pytorch-geometric.com/whl/torch-{TORCH}+{CUDA}.html\n",
        "!pip install torch-cluster     -f https://pytorch-geometric.com/whl/torch-{TORCH}+{CUDA}.html\n",
        "!pip install torch-spline-conv -f https://pytorch-geometric.com/whl/torch-{TORCH}+{CUDA}.html\n",
        "!pip install torch-geometric "
      ]
    },
    {
      "cell_type": "code",
      "execution_count": 2,
      "metadata": {
        "colab": {
          "base_uri": "https://localhost:8080/"
        },
        "id": "xmmpgm1BqzDN",
        "outputId": "d34067fe-b3a4-44c5-86ff-67e9bd9a9cc5"
      },
      "outputs": [
        {
          "output_type": "stream",
          "name": "stdout",
          "text": [
            "Using cpu device\n"
          ]
        }
      ],
      "source": [
        "## Elegimos si usar CPU o GPU para los cálculos\n",
        "device = \"cuda\" if torch.cuda.is_available() else \"cpu\"\n",
        "print(\"Using {} device\".format(device))"
      ]
    },
    {
      "cell_type": "code",
      "source": [
        "!pip install igraph"
      ],
      "metadata": {
        "colab": {
          "base_uri": "https://localhost:8080/"
        },
        "id": "lolD_PUhiVCB",
        "outputId": "8a60e34a-4157-49a4-f387-b37eaa944412"
      },
      "execution_count": 13,
      "outputs": [
        {
          "output_type": "stream",
          "name": "stdout",
          "text": [
            "Collecting igraph\n",
            "  Downloading igraph-0.9.8-cp37-cp37m-manylinux_2_12_x86_64.manylinux2010_x86_64.whl (3.2 MB)\n",
            "\u001b[K     |████████████████████████████████| 3.2 MB 8.9 MB/s \n",
            "\u001b[?25hCollecting texttable>=1.6.2\n",
            "  Downloading texttable-1.6.4-py2.py3-none-any.whl (10 kB)\n",
            "Installing collected packages: texttable, igraph\n",
            "Successfully installed igraph-0.9.8 texttable-1.6.4\n"
          ]
        }
      ]
    },
    {
      "cell_type": "markdown",
      "source": [
        "### Importamos las librerias necesarias"
      ],
      "metadata": {
        "id": "nEDIil4sg3ay"
      }
    },
    {
      "cell_type": "code",
      "execution_count": 16,
      "metadata": {
        "id": "IzayJds1phvW"
      },
      "outputs": [],
      "source": [
        "import numpy as np\n",
        "import networkx as nx\n",
        "import pandas as pd\n",
        "\n",
        "from torch_geometric.nn import Node2Vec\n",
        "\n",
        "from sklearn.manifold import TSNE\n",
        "from sklearn.decomposition import PCA\n",
        "\n",
        "import warnings\n",
        "warnings.simplefilter(action='ignore', category=FutureWarning)\n",
        "\n",
        "import matplotlib.pyplot as plt\n",
        "import seaborn as sns\n",
        "sns.set()\n",
        "sns.set_context('talk')\n",
        "\n",
        "\n",
        "import networkx as nx\n",
        "import igraph \n",
        "from igraph import Graph\n",
        "import warnings\n",
        "warnings.simplefilter(action='ignore', category=FutureWarning)\n"
      ]
    },
    {
      "cell_type": "markdown",
      "source": [
        "### Agregamos nuestro grafo generado en los anteriores puntos"
      ],
      "metadata": {
        "id": "pnAjNcCZg8EE"
      }
    },
    {
      "cell_type": "markdown",
      "source": [
        "Importamos los datasets"
      ],
      "metadata": {
        "id": "4FwpPpJ6i67Y"
      }
    },
    {
      "cell_type": "code",
      "source": [
        "from pydrive.auth import GoogleAuth\n",
        "from pydrive.drive import GoogleDrive\n",
        "from google.colab import auth\n",
        "from oauth2client.client import GoogleCredentials"
      ],
      "metadata": {
        "id": "J5WlOB4ChKni"
      },
      "execution_count": 5,
      "outputs": []
    },
    {
      "cell_type": "code",
      "source": [
        "def connect_to_drive():\n",
        "  auth.authenticate_user()\n",
        "  gauth = GoogleAuth()\n",
        "  gauth.credentials = GoogleCredentials.get_application_default()\n",
        "  return GoogleDrive(gauth)\n",
        "\n",
        "def read_csv_from_drive(drive, id, filename):\n",
        "  downloaded = drive.CreateFile({'id':id}) \n",
        "  downloaded.GetContentFile(filename)  \n",
        "  return pd.read_csv(filename)\n",
        "\n",
        "drive = connect_to_drive() \n"
      ],
      "metadata": {
        "id": "HRwTaEKXhKUg"
      },
      "execution_count": 6,
      "outputs": []
    },
    {
      "cell_type": "code",
      "source": [
        "dtypes = {\n",
        "    'id_str': str,\n",
        "    'full_text': str,\n",
        "    'in_reply_to_status_id': str,\n",
        "    'in_reply_to_user_id': str,\n",
        "    'user.id': str\n",
        "}\n"
      ],
      "metadata": {
        "id": "F0a533rbg7lq"
      },
      "execution_count": 4,
      "outputs": []
    },
    {
      "cell_type": "code",
      "source": [
        "df = read_csv_from_drive(drive, '1ecOBly_KJp5GCDOOE3_Rs8F3L3p_QJRk', 'vacunas.csv').dropna(subset=['user_retweeters'])\n",
        "df['user_retweeters'] = df['user_retweeters'].apply(lambda x: [str(elem) for elem in eval(x)])\n",
        "print(df.shape)\n",
        "df.head()"
      ],
      "metadata": {
        "colab": {
          "base_uri": "https://localhost:8080/",
          "height": 449
        },
        "id": "oF_zMpgfhitM",
        "outputId": "ce7772ac-e899-4069-85ad-bb457ed4a641"
      },
      "execution_count": 17,
      "outputs": [
        {
          "output_type": "stream",
          "name": "stdout",
          "text": [
            "(155123, 8)\n"
          ]
        },
        {
          "output_type": "execute_result",
          "data": {
            "text/html": [
              "<div>\n",
              "<style scoped>\n",
              "    .dataframe tbody tr th:only-of-type {\n",
              "        vertical-align: middle;\n",
              "    }\n",
              "\n",
              "    .dataframe tbody tr th {\n",
              "        vertical-align: top;\n",
              "    }\n",
              "\n",
              "    .dataframe thead th {\n",
              "        text-align: right;\n",
              "    }\n",
              "</style>\n",
              "<table border=\"1\" class=\"dataframe\">\n",
              "  <thead>\n",
              "    <tr style=\"text-align: right;\">\n",
              "      <th></th>\n",
              "      <th>created_at</th>\n",
              "      <th>id_str</th>\n",
              "      <th>full_text</th>\n",
              "      <th>in_reply_to_status_id</th>\n",
              "      <th>in_reply_to_user_id</th>\n",
              "      <th>user.id</th>\n",
              "      <th>user_retweeters</th>\n",
              "      <th>sentiment</th>\n",
              "    </tr>\n",
              "  </thead>\n",
              "  <tbody>\n",
              "    <tr>\n",
              "      <th>0</th>\n",
              "      <td>Sat Feb 20 03:09:10 +0000 2021</td>\n",
              "      <td>1362962469749153792</td>\n",
              "      <td>Seguimos esperando el comunicado de @norabar r...</td>\n",
              "      <td>NaN</td>\n",
              "      <td>NaN</td>\n",
              "      <td>2737379453</td>\n",
              "      <td>[2258074658, 159909978, 105301854, 290671142, ...</td>\n",
              "      <td>NaN</td>\n",
              "    </tr>\n",
              "    <tr>\n",
              "      <th>1</th>\n",
              "      <td>Sat Feb 20 03:19:59 +0000 2021</td>\n",
              "      <td>1362965193509265417</td>\n",
              "      <td>@Clon_43 @norabar Nora estaba indignada porque...</td>\n",
              "      <td>1.362962e+18</td>\n",
              "      <td>2.737379e+09</td>\n",
              "      <td>32718111</td>\n",
              "      <td>[]</td>\n",
              "      <td>NaN</td>\n",
              "    </tr>\n",
              "    <tr>\n",
              "      <th>2</th>\n",
              "      <td>Mon Feb 22 23:55:08 +0000 2021</td>\n",
              "      <td>1364000806740111363</td>\n",
              "      <td>Bueno, Alberto dijo Salud o Economía. La salud...</td>\n",
              "      <td>NaN</td>\n",
              "      <td>NaN</td>\n",
              "      <td>252168075</td>\n",
              "      <td>[1238117630696972289, 37232479, 12792246571247...</td>\n",
              "      <td>NaN</td>\n",
              "    </tr>\n",
              "    <tr>\n",
              "      <th>3</th>\n",
              "      <td>Tue Feb 23 00:09:14 +0000 2021</td>\n",
              "      <td>1364004354374696963</td>\n",
              "      <td>@spitta1969 Tuit del mes Spitta</td>\n",
              "      <td>1.364001e+18</td>\n",
              "      <td>2.521681e+08</td>\n",
              "      <td>1156346340802224128</td>\n",
              "      <td>[]</td>\n",
              "      <td>NaN</td>\n",
              "    </tr>\n",
              "    <tr>\n",
              "      <th>4</th>\n",
              "      <td>Tue Feb 23 00:00:17 +0000 2021</td>\n",
              "      <td>1364002100364128260</td>\n",
              "      <td>@spitta1969 Estas onfire</td>\n",
              "      <td>1.364001e+18</td>\n",
              "      <td>2.521681e+08</td>\n",
              "      <td>153663816</td>\n",
              "      <td>[]</td>\n",
              "      <td>NaN</td>\n",
              "    </tr>\n",
              "  </tbody>\n",
              "</table>\n",
              "</div>"
            ],
            "text/plain": [
              "                       created_at  ...  sentiment\n",
              "0  Sat Feb 20 03:09:10 +0000 2021  ...        NaN\n",
              "1  Sat Feb 20 03:19:59 +0000 2021  ...        NaN\n",
              "2  Mon Feb 22 23:55:08 +0000 2021  ...        NaN\n",
              "3  Tue Feb 23 00:09:14 +0000 2021  ...        NaN\n",
              "4  Tue Feb 23 00:00:17 +0000 2021  ...        NaN\n",
              "\n",
              "[5 rows x 8 columns]"
            ]
          },
          "metadata": {},
          "execution_count": 17
        }
      ]
    },
    {
      "cell_type": "code",
      "source": [
        "etiquetas = read_csv_from_drive(drive, '1qXme18gwQKQ-7N2BevqLf4jAKvH4utLG', 'etiquetas.csv')"
      ],
      "metadata": {
        "id": "eH3XXkZjhifJ"
      },
      "execution_count": 22,
      "outputs": []
    },
    {
      "cell_type": "markdown",
      "source": [
        "Ahora creamos el grafo (de los trabajos anteriores)"
      ],
      "metadata": {
        "id": "PP55M6ogi-1I"
      }
    },
    {
      "cell_type": "code",
      "source": [
        "dff = df[['user.id', 'user_retweeters']]\n",
        "df_final = dff.explode('user_retweeters')\n",
        "df_final = df_final.dropna()\n",
        "df_final = pd.merge(df_final.reset_index(drop=True), etiquetas, on = \"user.id\", how = \"left\")\n",
        "df_etiquetados = df_final.dropna().reset_index(drop=True)\n",
        "edges = pd.DataFrame({\"source\": df_etiquetados['user.id'],\n",
        "                      \"target\": df_etiquetados['user_retweeters']})\n",
        "g = nx.from_pandas_edgelist(edges,\n",
        "                            source='source', \n",
        "                            target='target')"
      ],
      "metadata": {
        "id": "ojRRS162g7gU"
      },
      "execution_count": 24,
      "outputs": []
    },
    {
      "cell_type": "code",
      "source": [
        "edges"
      ],
      "metadata": {
        "colab": {
          "base_uri": "https://localhost:8080/",
          "height": 424
        },
        "id": "BC3oTq-1kela",
        "outputId": "c20c8b9d-edf4-4068-8cc0-acb7a1817d5c"
      },
      "execution_count": 27,
      "outputs": [
        {
          "output_type": "execute_result",
          "data": {
            "text/html": [
              "<div>\n",
              "<style scoped>\n",
              "    .dataframe tbody tr th:only-of-type {\n",
              "        vertical-align: middle;\n",
              "    }\n",
              "\n",
              "    .dataframe tbody tr th {\n",
              "        vertical-align: top;\n",
              "    }\n",
              "\n",
              "    .dataframe thead th {\n",
              "        text-align: right;\n",
              "    }\n",
              "</style>\n",
              "<table border=\"1\" class=\"dataframe\">\n",
              "  <thead>\n",
              "    <tr style=\"text-align: right;\">\n",
              "      <th></th>\n",
              "      <th>source</th>\n",
              "      <th>target</th>\n",
              "    </tr>\n",
              "  </thead>\n",
              "  <tbody>\n",
              "    <tr>\n",
              "      <th>0</th>\n",
              "      <td>252168075</td>\n",
              "      <td>1238117630696972289</td>\n",
              "    </tr>\n",
              "    <tr>\n",
              "      <th>1</th>\n",
              "      <td>252168075</td>\n",
              "      <td>37232479</td>\n",
              "    </tr>\n",
              "    <tr>\n",
              "      <th>2</th>\n",
              "      <td>252168075</td>\n",
              "      <td>1279224657124753408</td>\n",
              "    </tr>\n",
              "    <tr>\n",
              "      <th>3</th>\n",
              "      <td>252168075</td>\n",
              "      <td>1299172647583051777</td>\n",
              "    </tr>\n",
              "    <tr>\n",
              "      <th>4</th>\n",
              "      <td>252168075</td>\n",
              "      <td>920281298735976449</td>\n",
              "    </tr>\n",
              "    <tr>\n",
              "      <th>...</th>\n",
              "      <td>...</td>\n",
              "      <td>...</td>\n",
              "    </tr>\n",
              "    <tr>\n",
              "      <th>86516</th>\n",
              "      <td>484349869</td>\n",
              "      <td>1196548869619953671</td>\n",
              "    </tr>\n",
              "    <tr>\n",
              "      <th>86517</th>\n",
              "      <td>484349869</td>\n",
              "      <td>1193738128412102657</td>\n",
              "    </tr>\n",
              "    <tr>\n",
              "      <th>86518</th>\n",
              "      <td>484349869</td>\n",
              "      <td>315827796</td>\n",
              "    </tr>\n",
              "    <tr>\n",
              "      <th>86519</th>\n",
              "      <td>484349869</td>\n",
              "      <td>252168075</td>\n",
              "    </tr>\n",
              "    <tr>\n",
              "      <th>86520</th>\n",
              "      <td>484349869</td>\n",
              "      <td>590045873</td>\n",
              "    </tr>\n",
              "  </tbody>\n",
              "</table>\n",
              "<p>86521 rows × 2 columns</p>\n",
              "</div>"
            ],
            "text/plain": [
              "          source               target\n",
              "0      252168075  1238117630696972289\n",
              "1      252168075             37232479\n",
              "2      252168075  1279224657124753408\n",
              "3      252168075  1299172647583051777\n",
              "4      252168075   920281298735976449\n",
              "...          ...                  ...\n",
              "86516  484349869  1196548869619953671\n",
              "86517  484349869  1193738128412102657\n",
              "86518  484349869            315827796\n",
              "86519  484349869            252168075\n",
              "86520  484349869            590045873\n",
              "\n",
              "[86521 rows x 2 columns]"
            ]
          },
          "metadata": {},
          "execution_count": 27
        }
      ]
    },
    {
      "cell_type": "code",
      "source": [
        ""
      ],
      "metadata": {
        "id": "hVbDWwUFko3A"
      },
      "execution_count": null,
      "outputs": []
    },
    {
      "cell_type": "code",
      "execution_count": 25,
      "metadata": {
        "colab": {
          "base_uri": "https://localhost:8080/"
        },
        "id": "CWBHdYz4pRAg",
        "outputId": "d14b3d82-d96a-44a3-f53f-bfec146f2796"
      },
      "outputs": [
        {
          "output_type": "stream",
          "name": "stdout",
          "text": [
            "Graph with 17982 nodes and 22558 edges\n"
          ]
        }
      ],
      "source": [
        "print(nx.info(g))"
      ]
    },
    {
      "cell_type": "code",
      "execution_count": 26,
      "metadata": {
        "id": "VMIA7F_ywPMu"
      },
      "outputs": [],
      "source": [
        "n = g.number_of_nodes()\n",
        "nodes = [v for v in g.nodes()]"
      ]
    },
    {
      "cell_type": "markdown",
      "metadata": {
        "id": "lSLcGksgpo6C"
      },
      "source": [
        "## Matrices esparsas\n",
        "\n",
        "Para hacer uso eficiente de la memoria, PyTorch-Geometric utiliza matrices esparsas. En particular usa el formato de coordenadas, o [COO](https://en.wikipedia.org/wiki/Sparse_matrix#Coordinate_list_(COO))."
      ]
    },
    {
      "cell_type": "code",
      "execution_count": 28,
      "metadata": {
        "id": "SCKbdeUApgGv"
      },
      "outputs": [],
      "source": [
        "adj = nx.to_scipy_sparse_matrix(g).tocoo()\n",
        "row = torch.from_numpy(adj.row.astype(np.int64)).to(torch.long)\n",
        "col = torch.from_numpy(adj.col.astype(np.int64)).to(torch.long)\n",
        "edge_index = torch.stack([row, col], dim=0)"
      ]
    },
    {
      "cell_type": "markdown",
      "metadata": {
        "id": "XFO5niYUrEDq"
      },
      "source": [
        "## Node2Vec"
      ]
    },
    {
      "cell_type": "code",
      "execution_count": 29,
      "metadata": {
        "id": "uSVdc0Q4qT_Q"
      },
      "outputs": [],
      "source": [
        "## Definimos nuestro modelo\n",
        "model = Node2Vec(\n",
        "    edge_index, embedding_dim=100, walk_length=10, \n",
        "    context_size=4, num_negative_samples=5\n",
        ").to(device)\n",
        "\n",
        "## El loader es un wrapper que nos permite trabajar por lotes, \n",
        "## para utilizar descenso por el gradiente estocástico y\n",
        "## sus variantes\n",
        "loader = model.loader(batch_size=128, shuffle=True)\n",
        "\n",
        "## Optimizador\n",
        "optimizer = torch.optim.Adam(list(model.parameters()), lr=0.01)"
      ]
    },
    {
      "cell_type": "markdown",
      "metadata": {
        "id": "cQyOUvlBwudT"
      },
      "source": [
        "Definimos la función de entrenamiento"
      ]
    },
    {
      "cell_type": "code",
      "execution_count": 30,
      "metadata": {
        "id": "YcHExJFmrGpd"
      },
      "outputs": [],
      "source": [
        "def train():\n",
        "    ## Ponemos nuestro modelo en modo entrenamiento\n",
        "    model.train()\n",
        "\n",
        "    total_loss = 0\n",
        "    for pos_rw, neg_rw in loader:\n",
        "\n",
        "        ## Reseteamos los gradientes\n",
        "        optimizer.zero_grad()\n",
        "\n",
        "        ## Calculamos el error (la función de costo) del lote\n",
        "        ## en función de los samples positivos y negativos\n",
        "        loss = model.loss(pos_rw.to(device), neg_rw.to(device))\n",
        "\n",
        "        ## Hacemos backpropagation\n",
        "        loss.backward()\n",
        "\n",
        "        ## Avanzamos un paso\n",
        "        optimizer.step()\n",
        "\n",
        "        ## Actualizamos la función de costo total\n",
        "        total_loss += loss.item()\n",
        "\n",
        "    return total_loss / len(loader)"
      ]
    },
    {
      "cell_type": "markdown",
      "metadata": {
        "id": "BW1Uft0hwrhG"
      },
      "source": [
        "Entrenamos el modelo"
      ]
    },
    {
      "cell_type": "code",
      "execution_count": 31,
      "metadata": {
        "colab": {
          "base_uri": "https://localhost:8080/"
        },
        "id": "M0cH8y_Atk6I",
        "outputId": "ee1331e0-d73e-4461-f070-2b670b81dcad"
      },
      "outputs": [
        {
          "output_type": "stream",
          "name": "stdout",
          "text": [
            "Epoch:   0 - Loss: 6.417\n",
            "Epoch:   5 - Loss: 2.333\n",
            "Epoch:  10 - Loss: 1.259\n",
            "Epoch:  15 - Loss: 0.941\n",
            "Epoch:  20 - Loss: 0.864\n",
            "Epoch:  25 - Loss: 0.857\n",
            "Epoch:  30 - Loss: 0.882\n",
            "Epoch:  35 - Loss: 0.848\n",
            "Epoch:  40 - Loss: 0.843\n",
            "Epoch:  45 - Loss: 0.843\n",
            "Epoch:  50 - Loss: 0.843\n",
            "Epoch:  55 - Loss: 0.842\n",
            "Epoch:  60 - Loss: 0.844\n",
            "Epoch:  65 - Loss: 0.843\n",
            "Epoch:  70 - Loss: 0.843\n",
            "Epoch:  75 - Loss: 0.843\n",
            "Epoch:  80 - Loss: 0.843\n",
            "Epoch:  85 - Loss: 0.842\n",
            "Epoch:  90 - Loss: 0.843\n",
            "Epoch:  95 - Loss: 0.842\n"
          ]
        }
      ],
      "source": [
        "epochs = 100\n",
        "for epoch in range(epochs):\n",
        "    loss = train()\n",
        "    if epoch % 5 == 0:\n",
        "        print(f'Epoch: {epoch:3} - Loss: {loss:.3f}')"
      ]
    },
    {
      "cell_type": "markdown",
      "metadata": {
        "id": "qpTE_5xPwxXm"
      },
      "source": [
        "Obtenemos el embedding"
      ]
    },
    {
      "cell_type": "code",
      "execution_count": 32,
      "metadata": {
        "id": "M7sP4o6duOVD"
      },
      "outputs": [],
      "source": [
        "def get_embedding():\n",
        "    model.eval()\n",
        "    with torch.no_grad():\n",
        "        nodes = torch.arange(g.number_of_nodes(), device=device)\n",
        "        embedding = model(nodes).detach().numpy()\n",
        "    return embedding\n",
        "\n",
        "embedding = get_embedding()"
      ]
    },
    {
      "cell_type": "markdown",
      "metadata": {
        "id": "Ey2VRurKwliD"
      },
      "source": [
        "Reducimos la dimensión del embedding para poder graficar"
      ]
    },
    {
      "cell_type": "code",
      "execution_count": 33,
      "metadata": {
        "id": "Vc-jC9_9vmFy"
      },
      "outputs": [],
      "source": [
        "pca = PCA(n_components=2, random_state=22).fit_transform(embedding)\n",
        "tsne = TSNE(n_components=2, learning_rate='auto', init='pca', random_state=22).fit_transform(embedding)"
      ]
    },
    {
      "cell_type": "markdown",
      "source": [
        "### Necesitamos los labels para pintarlos en el embedding "
      ],
      "metadata": {
        "id": "wVSVS7FYqywl"
      }
    },
    {
      "cell_type": "markdown",
      "source": [
        "Importamos el dataset con los labels y las comunidades generadas\n"
      ],
      "metadata": {
        "id": "Y6UW5YDWvRu-"
      }
    },
    {
      "cell_type": "code",
      "source": [
        "clasificacion_usuarios = pd.read_csv('https://raw.githubusercontent.com/data-datum/grafos/main/usuarios_clasificados.csv')"
      ],
      "metadata": {
        "id": "Rc8vGsfgw78Q"
      },
      "execution_count": 39,
      "outputs": []
    },
    {
      "cell_type": "code",
      "source": [
        "etiqueta_0 = [i for i, v in enumerate(G.nodes()) if v in (list(clasificacion_usuarios[clasificacion_usuarios['Clase']==0]['user.id']))]\n",
        "etiqueta_1 = [i for i, v in enumerate(G.nodes()) if v in (list(clasificacion_usuarios[clasificacion_usuarios['Clase']==1]['user.id']))]\n",
        "\n",
        "comunidad_0 = [i for i, v in enumerate(G.nodes()) if v in (list(clasificacion_usuarios[clasificacion_usuarios['grupo']==0]['user.id']))] \n",
        "comunidad_1 = [i for i, v in enumerate(G.nodes()) if v in (list(clasificacion_usuarios[clasificacion_usuarios['grupo']==1]['user.id']))]"
      ],
      "metadata": {
        "id": "nSUw22cSqyaO"
      },
      "execution_count": 40,
      "outputs": []
    },
    {
      "cell_type": "code",
      "source": [
        "def add_labels(g, pos, ax):\n",
        "    labels = [v for v in g.nodes()]\n",
        "    for i in range(g.number_of_nodes()):\n",
        "        x, y = pos[i]\n",
        "        label = labels[i]\n",
        "        ax.text(x, y, label)\n",
        "\n",
        "\n",
        "fig, axes = plt.subplots(figsize=(20, 8), ncols=2)\n",
        "\n",
        "ax = axes[0]\n",
        "ax.set_xlabel(r'$x_1$')\n",
        "ax.set_ylabel(r'$x_2$')\n",
        "\n",
        "ax.set_title('PCA')\n",
        "x, y = pca[comunidad_1][:,0],pca[comunidad_1][:,1]\n",
        "ax.scatter(x,y, c='orange')\n",
        "x, y = pca[comunidad_0][:,0],pca[comunidad_0][:,1]\n",
        "ax.scatter(x,y, c='black')\n",
        "x, y = pca[etiqueta_0][:,0],pca[etiqueta_0][:,1]\n",
        "ax.scatter(x,y, c='purple', alpha = 0.1, s=500)\n",
        "x, y = pca[etiqueta_1][:,0],pca[etiqueta_1][:,1]\n",
        "ax.scatter(x,y, c='green', alpha = 0.1, s=500)\n",
        "\n",
        "\n",
        "ax = axes[1]\n",
        "ax.set_xlabel(r'$x_1$')\n",
        "ax.set_ylabel(r'$x_2$')\n",
        "ax.set_title('t-SNE')\n",
        "x, y = tsne[comunidad_1][:,0],pca[comunidad_1][:,1]\n",
        "ax.scatter(x,y, c='orange')\n",
        "x, y = tsne[comunidad_0][:,0],pca[comunidad_0][:,1]\n",
        "ax.scatter(x,y, c='black')\n",
        "x, y = tsne[etiqueta_0][:,0],pca[etiqueta_0][:,1]\n",
        "ax.scatter(x,y, c='purple', alpha = 0.1, s=500)\n",
        "x, y = tsne[etiqueta_1][:,0],pca[etiqueta_1][:,1]\n",
        "ax.scatter(x,y, c='green', alpha = 0.1, s=500)\n",
        "\n",
        "plt.tight_layout()\n",
        "plt.show()"
      ],
      "metadata": {
        "colab": {
          "base_uri": "https://localhost:8080/",
          "height": 497
        },
        "id": "f59iEWXQ1dwq",
        "outputId": "dd0b6723-09e7-49fe-9ab3-42a0163de1d9"
      },
      "execution_count": 48,
      "outputs": [
        {
          "output_type": "display_data",
          "data": {
            "image/png": "[encoded data removed]",
            "text/plain": [
              "<Figure size 1440x576 with 2 Axes>"
            ]
          },
          "metadata": {}
        }
      ]
    },
    {
      "cell_type": "markdown",
      "source": [
        "## Conclusión"
      ],
      "metadata": {
        "id": "6ifbYc6y4FJd"
      }
    },
    {
      "cell_type": "markdown",
      "source": [
        "Como podemos obsevar en la figura anterior, se visualizan los agrupamientos correspondientes a las dos clases / comunidades en estudio. \n",
        "\n",
        "Originalmente, teníamos las etiquetas correspondientes a dos grupos (0 y 1), y luego, habiamos detectado 4 comunidades. Al realizar la matriz de confusión veíamos que había una coincidencia casi 100% en todos los casos. \n",
        "Eso se observa y confirma en el gráfico anterior. \n",
        "\n",
        "Los puntos en el gráfico poseen una especie de contorno transparente que corresponde a la etiqueta original, y la parte llena del punto corresponde a la comunidad asignada. \n",
        "\n",
        "También sucede en muy pocos casos, que el contorno difiere del relleno del punto, dando a entender, que la comunidad asignada no es igual a la etiqueta original. Esto sucede en zonas en las que ambas comunidades están cercanas en el espacio. \n",
        "\n",
        "\n",
        "A su vez, en tSNE los puntos correspondientes a cada clase se encuentran más separados que en PCA. "
      ],
      "metadata": {
        "id": "VdFrsWMk1rGA"
      }
    },
    {
      "cell_type": "code",
      "source": [
        ""
      ],
      "metadata": {
        "id": "aR7riWLL4D_u"
      },
      "execution_count": null,
      "outputs": []
    }
  ],
  "metadata": {
    "colab": {
      "collapsed_sections": [],
      "name": "TP2-Punto5-pytorch.ipynb",
      "provenance": []
    },
    "kernelspec": {
      "display_name": "Python 3 (ipykernel)",
      "language": "python",
      "name": "python3"
    },
    "language_info": {
      "codemirror_mode": {
        "name": "ipython",
        "version": 3
      },
      "file_extension": ".py",
      "mimetype": "text/x-python",
      "name": "python",
      "nbconvert_exporter": "python",
      "pygments_lexer": "ipython3",
      "version": "3.9.7"
    }
  },
  "nbformat": 4,
  "nbformat_minor": 0
}